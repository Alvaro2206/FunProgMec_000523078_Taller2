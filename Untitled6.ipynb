{
  "nbformat": 4,
  "nbformat_minor": 0,
  "metadata": {
    "colab": {
      "provenance": [],
      "authorship_tag": "ABX9TyNXfocWjmukkMZIaaXAdD+r",
      "include_colab_link": true
    },
    "kernelspec": {
      "name": "python3",
      "display_name": "Python 3"
    },
    "language_info": {
      "name": "python"
    }
  },
  "cells": [
    {
      "cell_type": "markdown",
      "metadata": {
        "id": "view-in-github",
        "colab_type": "text"
      },
      "source": [
        "<a href=\"https://colab.research.google.com/github/Alvaro2206/FunProgMec_000523078_Taller2/blob/main/Untitled6.ipynb\" target=\"_parent\"><img src=\"https://colab.research.google.com/assets/colab-badge.svg\" alt=\"Open In Colab\"/></a>"
      ]
    },
    {
      "cell_type": "code",
      "execution_count": null,
      "metadata": {
        "id": "fGYHjlqhADJr"
      },
      "outputs": [],
      "source": [
        "# Solicitando información al usuario\n",
        "print(f\"Programa para estimar el gasto de un estudiantes universitario\")\n",
        "print(f\"Por favor complete la siguiente informacion:\")\n",
        "lugar_residencia = input(\"¿Dónde vive usted? (1. casco urbano) (2.fuera de la ciudad) Digite el numero \")\n",
        "edad = int(input(\"¿Cuántos años tiene? \"))\n",
        "estrato = int(input(\"¿Cuál es su estrato socioeconómico? (1-6) \"))\n",
        "promedio = float(input(\"¿Cuál es su promedio académico ponderado proyectado para este semestre? \"))\n",
        "apoyo_transporte = 0\n",
        "apoyo_alimentacion = 0\n",
        "# Calcular los gastos de transporte y alimentación\n",
        "if lugar_residencia == \"1\" :\n",
        "    costo_transporte = 2800\n",
        "else:\n",
        "    costo_transporte = 3500\n",
        "\n",
        "costo_alimentacion = 20000\n",
        "\n",
        "# Calcular los apoyos de transporte y alimentación\n",
        "if estrato == 1:\n",
        "    if edad < 18:\n",
        "        apoyo_transporte = 65000\n",
        "        apoyo_alimentacion = costo_alimentacion * 0.9\n",
        "    else:\n",
        "        apoyo_transporte = 50000\n",
        "        apoyo_alimentacion = costo_alimentacion * 0.7\n",
        "elif estrato == 2:\n",
        "    if edad < 18:\n",
        "        apoyo_transporte = 45000\n",
        "        apoyo_alimentacion = costo_alimentacion * 0.7\n",
        "    else:\n",
        "        apoyo_transporte = 30000\n",
        "        apoyo_alimentacion = costo_alimentacion * 0.5\n",
        "elif estrato == 3:\n",
        "    if edad < 18:\n",
        "        apoyo_transporte = 35000\n",
        "        apoyo_alimentacion = costo_alimentacion * 0.5\n",
        "    else:\n",
        "        apoyo_transporte = 20000\n",
        "        apoyo_alimentacion = costo_alimentacion * 0.3\n",
        "\n",
        "# Calcular el apoyo a la matrícula \n",
        "if promedio >= 4.8:\n",
        "    apoyo_matricula = 5000000\n",
        "elif 4.5 <= promedio < 4.8:\n",
        "    apoyo_matricula = 0.7 * 5000000\n",
        "elif 4.0 <= promedio < 4.5:\n",
        "    apoyo_matricula = 0.4 * 5000000\n",
        "else:\n",
        "    apoyo_matricula = 0\n",
        "# Calcular el gasto mensual y el gasto total del semestre\n",
        "gasto_mensual = costo_transporte * 2 * 20 + costo_alimentacion * 20 - apoyo_transporte - apoyo_alimentacion\n",
        "gasto_total_semestre = gasto_mensual * 4 + (5000000 - apoyo_matricula)\n",
        "\n",
        "# Imprimir el resultado\n",
        "print(\"Su gasto mensual estimado como estudiante es de $ \"+ str(gasto_mensual) +\" COP.\")\n",
        "print(\"Su gasto total estimado para el semestre es de $ \" + str(gasto_total_semestre) + \" COP.\")"
      ]
    }
  ]
}