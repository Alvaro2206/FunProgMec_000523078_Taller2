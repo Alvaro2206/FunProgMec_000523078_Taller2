{
  "nbformat": 4,
  "nbformat_minor": 0,
  "metadata": {
    "colab": {
      "provenance": [],
      "authorship_tag": "ABX9TyPf4TYCOBHCaKcSaLLJrKzw",
      "include_colab_link": true
    },
    "kernelspec": {
      "name": "python3",
      "display_name": "Python 3"
    },
    "language_info": {
      "name": "python"
    }
  },
  "cells": [
    {
      "cell_type": "markdown",
      "metadata": {
        "id": "view-in-github",
        "colab_type": "text"
      },
      "source": [
        "<a href=\"https://colab.research.google.com/github/Alvaro2206/FunProgMec_000523078_Taller2/blob/main/Untitled1.ipynb\" target=\"_parent\"><img src=\"https://colab.research.google.com/assets/colab-badge.svg\" alt=\"Open In Colab\"/></a>"
      ]
    },
    {
      "cell_type": "markdown",
      "source": [
        "##Taller 2\n",
        "## fundamento de Programacion - Ingenieria Mecanicá 202310"
      ],
      "metadata": {
        "id": "O52zmiUptQaF"
      }
    },
    {
      "cell_type": "markdown",
      "source": [
        "Estudiante: Alvaro Burgos Diaz Id: 000391831"
      ],
      "metadata": {
        "id": "ZEWGW-q2xzmY"
      }
    },
    {
      "cell_type": "code",
      "source": [
        "#posicion de la particula en un tiempo: t_1 = 0\n",
        "t_1 = 0 \n",
        "#posicion de la particula en un tiempo: t_2 = 5\n",
        "t_2 = 5\n",
        "x_0 = 3\n",
        "v_0 = 5\n",
        "a = 6\n",
        "c= 1/2\n",
        "x_1 =v_0 + v_0*t_1 + c*a*t_1**2\n",
        "x_2 = v_0 + v_0*t_2 + c*a*t_2**2\n",
        "print(x_1)\n",
        "print(x_2)\n",
        "\n"
      ],
      "metadata": {
        "colab": {
          "base_uri": "https://localhost:8080/"
        },
        "id": "Iwds9xmr0J4m",
        "outputId": "afa6deb0-5928-4992-8de6-6ac766b8ef40"
      },
      "execution_count": 4,
      "outputs": [
        {
          "output_type": "stream",
          "name": "stdout",
          "text": [
            "5.0\n",
            "105.0\n"
          ]
        }
      ]
    },
    {
      "cell_type": "code",
      "source": [
        "A = 5\n",
        "B = 2\n",
        "C = 3\n",
        "D = -2\n",
        "A < B\n",
        "B <= C\n",
        "A =B + A > c\n",
        "A < c + B < c\n",
        "C != B\n",
        "A + D < C\n",
        "D - C >= 5 * A > 9\n",
        "A * B + C > - D * 10\n",
        "4 * B == C * 3\n",
        "prtin(A * B)\n",
        "prtiN(C * D)"
      ],
      "metadata": {
        "id": "g82OIH2t7ldB"
      },
      "execution_count": null,
      "outputs": []
    }
  ]
}